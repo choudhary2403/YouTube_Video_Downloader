{
 "cells": [
  {
   "cell_type": "code",
   "execution_count": null,
   "id": "20a5fe47",
   "metadata": {},
   "outputs": [
    {
     "name": "stdout",
     "output_type": "stream",
     "text": [
      "\n",
      "Enter the video url: https://youtu.be/cRZA1lDxkZQ\n",
      "\n",
      "******************************Video Info******************************\n",
      "\n",
      "Title: Touch it - Joey And Chandler - Friends Edit \n",
      "\n",
      "Duration: 22 s\n",
      "\n",
      "Channel name: azuL \n",
      "\n",
      "Views: 1302 \n",
      "\n",
      "Date of Upload: 2021-05-11 00:00:00 \n",
      "\n",
      "Rating: 5.0 \n",
      "\n",
      "Thumbnail: https://i.ytimg.com/vi/cRZA1lDxkZQ/maxresdefault.jpg\n",
      "\n",
      "Press 1 to Download the Video\n",
      "Press 2 to Download the Video in Audio Format\n",
      "Press 3 to Download Thumbnail\n",
      "Press 0 to EXIT\n",
      "\n",
      "Please select a option: 4\n"
     ]
    }
   ],
   "source": [
    "from pytube import YouTube\n",
    "import urllib.request\n",
    "import requests\n",
    "import time \n",
    "x,xyz=4,0\n",
    "while(x>=0):\n",
    "    if(x==4):\n",
    "        url = input('\\nEnter the video url: ')\n",
    "        my_video = YouTube(url)\n",
    "        file=urllib.request.urlopen(url)\n",
    "        print('\\n******************************Video Info******************************\\n')\n",
    "        print('Title:',my_video.title,'\\n')\n",
    "        print('Duration:',my_video.length,'s\\n')\n",
    "        print('Channel name:',my_video.author,'\\n')\n",
    "        print('Views:',my_video.views,'\\n')\n",
    "        print('Date of Upload:',my_video.publish_date,'\\n')\n",
    "        print('Rating:',round((my_video.rating),2),'\\n')\n",
    "        print(f'Thumbnail: {my_video.thumbnail_url}\\n')\n",
    "        print('Press 1 to Download the Video')\n",
    "        print('Press 2 to Download the Video in Audio Format')\n",
    "        print('Press 3 to Download Thumbnail')\n",
    "        print('Press 0 to EXIT\\n')        \n",
    "        x=int(input('Please select a option: '))\n",
    "    elif(x==1):   \n",
    "        vid=my_video.streams.get_highest_resolution()\n",
    "        print('\\nDownloading Video...')\n",
    "        st=time.time()\n",
    "        vid.download()\n",
    "        print('\\nVideo Downloading Successful!!!!')\n",
    "        print('\\nTime taken:',round((time.time()-st),2),'s')\n",
    "        xyz+=1\n",
    "        print('\\nPress 1 to Download the Video')\n",
    "        print('Press 2 to Download the Video in Audio Format')\n",
    "        print('Press 3 to Download Thumbnail')\n",
    "        if (xyz>0):\n",
    "            print('Press 4 to Renter the Link')\n",
    "        print('Press 0 to EXIT\\n')        \n",
    "        x=int(input('\\nPlease select a option: '))\n",
    "    elif(x==2):\n",
    "        audio=my_video.streams.filter(only_audio=True).first()\n",
    "        print('\\nDownloading Audio...')\n",
    "        st=time.time()\n",
    "        audio.download()\n",
    "        print('\\nAudio Downloading Successful!!!!')\n",
    "        print('\\nTime Taken:',round((time.time()-st),2),'s')\n",
    "        xyz+=1\n",
    "        print('\\nPress 1 to Download the Video')\n",
    "        print('Press 2 to Download the Video in Audio Format')\n",
    "        print('Press 3 to Download Thumbnail')\n",
    "        if (xyz>0):\n",
    "            print('Press 4 to Renter the Link')\n",
    "        print('Press 0 to EXIT\\n')        \n",
    "        x=int(input('\\nPlease select a option: '))\n",
    "    elif(x==3):\n",
    "        print('\\nDownloading Thumbnail...')\n",
    "        st=time.time()\n",
    "        t=my_video.thumbnail_url\n",
    "        response = requests.get(t)\n",
    "        file = open(\"Thumbnail.png\", \"wb\")\n",
    "        file.write(response.content)\n",
    "        file.close()\n",
    "        print('\\nThumbnail Download Successful!!!!')\n",
    "        print('\\nTime Taken:',round((time.time()-st),2),'s')\n",
    "        xyz+=1\n",
    "        print('\\nPress 1 to Download the Video')\n",
    "        print('Press 2 to Download the Video in Audio Format')\n",
    "        print('Press 3 to Download Thumbnail')\n",
    "        if (xyz>0):\n",
    "            print('Press 4 to Renter the Link')\n",
    "        print('Press 0 to EXIT\\n')        \n",
    "        x=int(input('Please select a option: '))\n",
    "    elif(x==0):\n",
    "        print('\\nThanks for using!!!')\n",
    "        break  \n",
    "    else:\n",
    "        print('\\nInvalid Option')\n",
    "        x=int(input('\\nPlease select a option: '))\n",
    "\n",
    "        "
   ]
  },
  {
   "cell_type": "code",
   "execution_count": 3,
   "id": "a279b721",
   "metadata": {},
   "outputs": [
    {
     "name": "stdout",
     "output_type": "stream",
     "text": [
      "Defaulting to user installation because normal site-packages is not writeable\n",
      "\r"
     ]
    },
    {
     "name": "stderr",
     "output_type": "stream",
     "text": [
      "\u001b[31mERROR: Could not find a version that satisfies the requirement urllib.request (from versions: none)\u001b[0m\n",
      "\u001b[31mERROR: No matching distribution found for urllib.request\u001b[0m\n",
      "\r"
     ]
    },
    {
     "name": "stdout",
     "output_type": "stream",
     "text": [
      "Note: you may need to restart the kernel to use updated packages.\n"
     ]
    }
   ],
   "source": [
    "pip install urllib.request"
   ]
  },
  {
   "cell_type": "code",
   "execution_count": null,
   "id": "b226972c",
   "metadata": {},
   "outputs": [],
   "source": []
  },
  {
   "cell_type": "code",
   "execution_count": null,
   "id": "9b16b892",
   "metadata": {},
   "outputs": [],
   "source": []
  },
  {
   "cell_type": "code",
   "execution_count": null,
   "id": "73ddae77",
   "metadata": {},
   "outputs": [],
   "source": []
  }
 ],
 "metadata": {
  "kernelspec": {
   "display_name": "Python 3",
   "language": "python",
   "name": "python3"
  },
  "language_info": {
   "codemirror_mode": {
    "name": "ipython",
    "version": 3
   },
   "file_extension": ".py",
   "mimetype": "text/x-python",
   "name": "python",
   "nbconvert_exporter": "python",
   "pygments_lexer": "ipython3",
   "version": "3.9.2+"
  }
 },
 "nbformat": 4,
 "nbformat_minor": 5
}
